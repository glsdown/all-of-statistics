{
 "cells": [
  {
   "cell_type": "code",
   "execution_count": 5,
   "id": "756d17eb-a334-4c7c-b1e4-e7b4f30f652d",
   "metadata": {},
   "outputs": [],
   "source": [
    "import matplotlib.pyplot as plt\n",
    "import numpy as np"
   ]
  },
  {
   "cell_type": "markdown",
   "id": "05dd98b8-8920-48dc-b9d7-4f05a9fde5d9",
   "metadata": {},
   "source": [
    "# 1.4 Inequalities\n",
    "\n",
    "## Knowledge\n",
    "\n",
    "### Probability Inequalities\n",
    "\n",
    "#### Markov's Inequality\n",
    "\n",
    "Let $X$ be a non-negative random variable and suppose that $\\mathbb{E}(X)$ exists. For any $t > 0$:\n",
    "\n",
    "$$\n",
    "\\mathbb{P}(X > t) \\leq \\frac{\\mathbb{E}(X)}{t}\n",
    "$$\n",
    "\n",
    "#### Chebyshevs Inequality\n",
    "\n",
    "Let $\\mu = \\mathbb{E}(X)$ and $\\sigma^2 = \\mathbb{V}(X)$. Then\n",
    "\n",
    "$$\n",
    "\\mathbb{P}(|X - \\mu| \\geq t) \\leq \\frac{\\sigma^2}{t^2} \\qquad \\text{and} \\qquad \\mathbb{P}(|Z| \\geq k) \\leq \\frac{1}{k^2}\n",
    "$$\n",
    "\n",
    "Where $Z = \\frac{X - \\mu}{\\sigma}$. In particular:\n",
    "\n",
    "$$\n",
    "\\mathbb{P}(|Z| > 2) \\leq \\frac{1}{4} \\qquad \\text{and} \\qquad \\mathbb{P}(|Z| > 3) \\leq \\frac{1}{9}\n",
    "$$\n",
    "\n",
    "#### Hoeffding's Inequality\n",
    "\n",
    "Let $Y_1, \\dots , Y_n$ be independent observations such that $\\mathbb{E}(Y_i) = 0$ and $a_i \\leq Y_i \\leq b_i$. Let $\\epsilon > 0$. Then for any $t > 0$,\n",
    "\n",
    "$$\n",
    "\\mathbb{P}\\left(\\sum_{i=1}^n Y_i \\geq \\epsilon \\right) \\leq e^{-t\\epsilon} \\prod_{i=1}^n e^\\frac{t^2(b_i-a_1)^2}{8}\n",
    "$$\n",
    "\n",
    "Let $X_1, \\dots, X_n \\sim \\text{Bernoulli}(p)$. Then for any $\\epsilon > 0$\n",
    "\n",
    "$$\n",
    "\\mathbb{P}(|\\overline{X}_n - p| > \\epsilon) \\leq 2 e^{-2n\\epsilon^2}\n",
    "$$\n",
    "\n",
    "#### Mill's Inequality\n",
    "\n",
    "Let $Z \\sim N(0,1)$. Then\n",
    "\n",
    "$$\n",
    "\\mathbb{P}(|Z| > t) \\leq \\sqrt{\\frac{2}{\\pi}} \\frac{e^\\frac{-t^2}{2}}{t}\n",
    "$$\n",
    "\n",
    "#### Cauchy-Schwartz Inequality\n",
    "\n",
    "If $X$ and $Y$ have finite variances then\n",
    "\n",
    "$$\n",
    "\\mathbb{E}|XY| \\leq \\sqrt{\\mathbb{E}(X^2)\\mathbb{E}(Y^2)}\n",
    "$$\n",
    "\n",
    "#### Jensen's Inequality\n",
    "\n",
    "If $g$ is **convex**, then \n",
    "\n",
    "$$\n",
    "\\mathbb{E}g(X) \\geq g\\mathbb{E}(X)\n",
    "$$\n",
    "\n",
    "If $g$ is **concave**, then \n",
    "\n",
    "$$\n",
    "\\mathbb{E}g(X) \\leq g\\mathbb{E}(X)\n",
    "$$\n",
    "\n",
    "##### Note\n",
    "A function $g$ is **convex** if for each $x,y$ and each $\\alpha \\in [0,1]$\n",
    "\n",
    "$$\n",
    "g(\\alpha x + (1-\\alpha)y) \\leq \\alpha g(x) + (1-\\alpha)g(y)\n",
    "$$\n",
    "\n",
    "That is $g$ lies above any tangent line. A function $g$ is **concave** if $-g$ is convex."
   ]
  },
  {
   "cell_type": "markdown",
   "id": "cbd306d6-cdba-4c13-bea0-cf763b8ab0cb",
   "metadata": {},
   "source": [
    "## Computer Experiments\n",
    "\n",
    "### Exercise 1\n",
    "\n",
    "Let $X_1, \\dots, X_n \\sim \\text{Bernoulli}(p)$\n",
    "\n",
    "a) Let $\\alpha > 0$ be fixed and define\n",
    "\n",
    "$$\n",
    "\\epsilon_n = \\sqrt{\\frac{1}{2n}log\\left(\\frac{2}{\\alpha}\\right)}\n",
    "$$\n",
    "\n",
    "Let $\\hat{p}_n = \\frac{1}{n}\\sum_{i=1}^n X_i$ (the sample mean). Define $C_n = (\\hat{p}_n - \\epsilon_n, \\hat{p}_n + \\epsilon_n)$. Use Hoeffding's inequality to show that\n",
    "\n",
    "$$\n",
    "\\mathbb{P}(C_n \\; \\text{contains} \\; p) \\geq 1 - \\alpha\n",
    "$$\n",
    "\n",
    "> We have by Hoeffding's inequality that\n",
    "> $$\n",
    "\\mathbb{P}(|\\hat{p}_n - p| > \\epsilon_n) \\leq 2e^{-2n\\epsilon_n^2}\n",
    "$$\n",
    "> Which calculates to\n",
    "> $$\n",
    "2e^{-2n\\epsilon_n^2} = 2e^{-2n \\frac{1}{2n}log\\left(\\frac{2}{\\alpha}\\right)} = 2e^{-log\\left(\\frac{2}{\\alpha}\\right)} = 2e^{-(log(2) - log(\\alpha)} = 2e^{log(\\alpha) - log(2)} = 2\\frac{e^{log(\\alpha)}}{e^{log(2)}} = 2\\frac{\\alpha}{2} = \\alpha\n",
    "$$\n",
    "> Combining together we get:\n",
    "> $$\n",
    "\\mathbb{P}(p \\notin C_n) = \\mathbb{P}(|\\hat{p}_n - p| > \\epsilon_n) \\leq \\alpha\n",
    "$$\n",
    "> And thus $\\mathbb{P}(p \\in C_n) \\geq 1 - \\alpha$."
   ]
  },
  {
   "cell_type": "markdown",
   "id": "85ce312f-aacb-4082-ae2a-016dc2e9afaa",
   "metadata": {},
   "source": [
    "b) Let $\\alpha = 0.05$ and $p = 0.4$. Conduct a simulation study to see how often the interval contains $p$ (called the **coverage**). Do this for various values of $n$ between 1 and 10000. Plot the coverage versus $n$."
   ]
  },
  {
   "cell_type": "code",
   "execution_count": 71,
   "id": "23b91ac3-daed-4a5f-bafd-041012fe755a",
   "metadata": {},
   "outputs": [],
   "source": [
    "# Set the parameters\n",
    "alpha = 0.05\n",
    "p = 0.4\n",
    "number_of_simulations = 1000\n",
    "sample_sizes = np.linspace(1, 10000, num=50, dtype=int)\n",
    "results = []\n",
    "\n",
    "for number_samples in sample_sizes:\n",
    "\n",
    "    # Generate the samples\n",
    "    x = np.random.binomial(\n",
    "        size=(number_samples, number_of_simulations), n=1, p=p\n",
    "    )\n",
    "\n",
    "    # Get the sample mean\n",
    "    sample_mean = x.mean(axis=0)\n",
    "\n",
    "    # Calculate the 'errors'\n",
    "    epsilon = np.sqrt(1 / (2 * number_samples) * np.log(2 / alpha))\n",
    "\n",
    "    # Check for each one whether the p value is in the confidence interval\n",
    "    results.append(\n",
    "        ((sample_mean - epsilon < p) & (p < sample_mean + epsilon)).mean()\n",
    "    )"
   ]
  },
  {
   "cell_type": "code",
   "execution_count": 73,
   "id": "92cc0f4e-18fb-45fd-8455-5e537ff2163c",
   "metadata": {},
   "outputs": [
    {
     "data": {
      "image/png": "[encoded data removed]",
      "text/plain": [
       "<Figure size 864x288 with 1 Axes>"
      ]
     },
     "metadata": {
      "needs_background": "light"
     },
     "output_type": "display_data"
    }
   ],
   "source": [
    "# Plot the results against the values of n\n",
    "f, ax = plt.subplots(figsize=(12, 4))\n",
    "ax.scatter(sample_sizes, results)\n",
    "ax.set_ylim(0.95, 1)\n",
    "ax.set_xlabel(\"n\")\n",
    "ax.set_ylabel(f\"% coverage ({number_of_simulations} trials)\");"
   ]
  },
  {
   "cell_type": "markdown",
   "id": "8af89b94-bdbb-49c2-a042-746f99c3e5e7",
   "metadata": {},
   "source": [
    "c) Plot the length of the interval versus $n$. Suppose we want the length of the interval to be no more than $0.05$. How large should $n$ be?\n",
    "\n",
    "> $$\n",
    "2 \\sqrt{\\frac{1}{2n}log\\left(\\frac{2}{\\alpha}\\right)} < 0.05 \\implies n > 2952\n",
    "$$\n",
    "> So there should be at least 2952 samples."
   ]
  },
  {
   "cell_type": "code",
   "execution_count": 89,
   "id": "4d1964e8-0eae-4a9f-86b5-0436ecd3ee6e",
   "metadata": {},
   "outputs": [
    {
     "data": {
      "image/png": "[encoded data removed]",
      "text/plain": [
       "<Figure size 864x288 with 1 Axes>"
      ]
     },
     "metadata": {
      "needs_background": "light"
     },
     "output_type": "display_data"
    }
   ],
   "source": [
    "# Plot the intervals\n",
    "x = np.arange(1, 10000, step=5)\n",
    "y = 2 * np.sqrt(1 / (2 * x) * np.log(2 / alpha))\n",
    "\n",
    "f, ax = plt.subplots(figsize=(12, 4))\n",
    "ax.plot(x, y)\n",
    "# Add the reference points for the additional requirement\n",
    "plt.axhline(y=0.05, color=\"red\", linestyle=\"dashed\")\n",
    "plt.axvline(x=2952, color=\"black\", linestyle=\"dashed\")\n",
    "ax.set_xlabel(\"n\")\n",
    "ax.set_ylim(0, 0.5)\n",
    "ax.set_ylabel(\"interval length\");"
   ]
  }
 ],
 "metadata": {
  "kernelspec": {
   "display_name": "Python 3 (ipykernel)",
   "language": "python",
   "name": "python3"
  },
  "language_info": {
   "codemirror_mode": {
    "name": "ipython",
    "version": 3
   },
   "file_extension": ".py",
   "mimetype": "text/x-python",
   "name": "python",
   "nbconvert_exporter": "python",
   "pygments_lexer": "ipython3",
   "version": "3.9.1"
  }
 },
 "nbformat": 4,
 "nbformat_minor": 5
}
