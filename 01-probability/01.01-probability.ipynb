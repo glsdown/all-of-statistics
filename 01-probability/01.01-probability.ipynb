{
 "cells": [
  {
   "cell_type": "markdown",
   "id": "f2b04df5-670d-4f00-964c-f6e2b17b271e",
   "metadata": {},
   "source": [
    "# 1.1 Probability\n",
    "\n",
    "## Knowledge\n",
    "\n",
    "### Sample Spaces and Events\n",
    "\n",
    "The **sample space** $\\Omega$ is the set of possible outcomes of an experiment. Points $\\omega$ in $\\Omega$ are called **sample outcomes, realisations** or **elements**. Subsets of $\\Omega$ (often denoted such as $A$) are called **Events**. \n",
    "\n",
    "When describing events, we can use parentheses $()$ to denote that the end point is *not* included, or square brackets $[]$ to denote that it is. For example, the event that something is greater than 10, but less than or equal to 20 is:\n",
    "\n",
    "$$\n",
    "A = (10, 20]\n",
    "$$\n",
    "\n",
    "\n",
    "The **complement** $A^c$ of the event $A$ is:\n",
    "\n",
    "$$\n",
    "A^c := \\{\\omega \\in \\Omega : \\omega \\notin A\\}\n",
    "$$\n",
    "\n",
    "As a special case, the complement of $\\Omega$ is the empty set $\\emptyset$.\n",
    "\n",
    "$$\n",
    "\\Omega^c = \\emptyset\n",
    "$$\n",
    "\n",
    "The **union** of events $A$ and $B$ is all outcomes that belong to either $A$ **or** $B$.\n",
    "\n",
    "$$\n",
    "A \\bigcup B := \\{\\omega \\in \\Omega : (\\omega \\in A) \\lor (\\omega \\in B) \\}\n",
    "$$\n",
    "\n",
    "The **intersection** of events $A$ and $B$ (also denoted $AB$) is all outcomes that are in both $A$ **and** $B$.\n",
    "\n",
    "$$\n",
    "A \\cap B := \\{\\omega \\in \\Omega : \\omega \\in A, \\omega \\in B \\}\n",
    "$$\n",
    "\n",
    "The **set difference** of events $A$ and $B$ is all outcomes occurring in $A$ that do not occur in $B$.\n",
    "\n",
    "$$\n",
    "A - B := \\{\\omega \\in \\Omega : \\omega \\in A, \\omega \\notin B \\}\n",
    "$$\n",
    "\n",
    "$A$ is a **subset** of $B$ if all elements in $A$ also occur in $B$. This can be written $A \\subset B$. We can equivalently say in this case that $B$ is a **superset** of $A$, which can be written $B \\supset A$.\n",
    "\n",
    "The **cardinality** of the finite set $A$ is the number of elements in $A$, and is denoted by $|A|$.\n",
    "\n",
    "Events $A_1$, $A_2$, ... are considered **mutually exclusive** or **disjoint** if $A_i \\cap A_j = \\emptyset$ whenever $i \\neq j$.\n",
    "\n",
    "A **partition** of $\\Omega$ is a sequence of disjoint sets $A_1$, $A_2$, ... such that $\\cap_{i=1}^{\\infty} A_i = \\Omega$.\n",
    "\n",
    "The **indicator function** of an event $A$, is defined as:\n",
    "\n",
    "$$\n",
    "I_A(\\omega) = I(\\omega \\in A) = \\begin{cases}1 \\: \\text{ if } \\omega \\in A \\\\ 0 \\: \\text{ if } \\omega \\notin A\\end{cases}\n",
    "$$\n",
    "\n",
    "A sequence of sets $A_1$, $A_2$, ... is **monotone increasing** if $A_1 \\subset A_2 \\subset A_3 \\subset$ ... and we define $\\lim_{n \\to \\infty}A_n = \\bigcup_{i=1}^\\infty A_i =: A$.\n",
    "\n",
    "A sequence of sets $A_1$, $A_2$, ... is **monotone decreasing** if $A_1 \\supset A_2 \\supset A_3 \\supset$ ... and we define $\\lim_{n \\to \\infty}A_n = \\cap_{i=1}^\\infty A_i =: A$. \n",
    "\n",
    "In both cases, we denote $A_n \\to A$. Note that if $A_1$, $A_2$, ... is monotone increasing, then $A_1^c$, $A_2^c$, ... is monotone decreasing."
   ]
  },
  {
   "cell_type": "markdown",
   "id": "f874cf7e-e0bf-4d33-8b23-f7d6f78e9ab3",
   "metadata": {},
   "source": [
    "### Probability\n",
    "\n",
    "The function $\\mathbb{P}$ that assigns a real number (**probability**) $\\mathbb{P}(A)$ to each event A is a **probability distribution** or **probability measure** if:\n",
    "\n",
    "1. $\\mathbb{P}(A) > 0 \\forall A$\n",
    "2. $\\mathbb{P}(\\Omega) = 1$\n",
    "3. If $A_1$, $A_2$, ... are disjoint then\n",
    "\n",
    "$$\n",
    "\\mathbb{P}(\\bigcup_{i=1}^\\infty A_i) = \\sum_{i=1}^{\\infty} \\mathbb{P}(A_i)\n",
    "$$\n",
    "\n",
    "This leads to the following facts about probability distributions:\n",
    "\n",
    "1. $\\mathbb{P}(\\emptyset) = 0$\n",
    "2. $A \\subset B \\implies \\mathbb{P}(A) \\leq \\mathbb{P}(B)$\n",
    "3. $0 \\leq \\mathbb{P}(A) \\leq 1$\n",
    "4. $\\mathbb{P}(A^C) = 1 - \\mathbb{P}(A)$\n",
    "5. $A \\cap B = \\emptyset \\implies \\mathbb{P}(A \\bigcup B) = \\mathbb{P}(A) + \\mathbb{P}(B)$\n",
    "6. $\\mathbb{P}(A \\bigcup B) = \\mathbb{P}(A) + \\mathbb{P}(B) - \\mathbb{P}(AB)$\n",
    "\n",
    "#### Continuity of Probabilities Theorem\n",
    "\n",
    "If $A_n \\to A$ then $\\mathbb{P}(A_n) \\to \\mathbb{P}(A)$ as $n\\to \\infty$"
   ]
  },
  {
   "cell_type": "markdown",
   "id": "adc6166e-1ff7-4b36-9f71-fc01471d0e31",
   "metadata": {},
   "source": [
    "### Probability on Finite Sample Spaces\n",
    "\n",
    "If $|\\Omega| < \\infty$ and each outcome is equally likely, then this is an **uniform probability distribution**:\n",
    "\n",
    "$$\n",
    "\\mathbb{P}(A) = \\frac{|A|}{|\\Omega|}\n",
    "$$\n",
    "\n",
    "To accurately calculate $|A|$ we need to use combinatorics. The simplest is that the number of ways of **ordering $n$ objects** is $n! = n(n-1)(n-2)$...$3 \\cdot 2 \\cdot 1$ where $0!=1$.\n",
    "\n",
    "Next, if we want to find the number of ways of choosing $k$ objects from $n$, known as **n choose k**, we calculate this as.\n",
    "\n",
    "$$\n",
    "\\binom{n}{k} = \\frac{n!}{k!(n-k)!}\n",
    "$$\n",
    "\n",
    "Properties to note are:\n",
    "\n",
    "$$\n",
    "\\binom{n}{0} = \\binom{n}{n} = 1 \\qquad \\text{and} \\qquad \\binom{n}{k} = \\binom{n}{n-k}\n",
    "$$"
   ]
  },
  {
   "cell_type": "markdown",
   "id": "915d2a1b-8740-4198-b38a-05d0ba3fa084",
   "metadata": {},
   "source": [
    "### Independent Events\n",
    "\n",
    "Two events $A$ and $B$ are **independent** if\n",
    "\n",
    "$$\n",
    "\\mathbb{P}(AB) = \\mathbb{P}(A)\\mathbb{P}(B)\n",
    "$$\n",
    "\n",
    "and we write $A \\perp \\!\\!\\! \\perp B$. A set of events ${A_i : i \\in I}$ is **independent** if\n",
    "\n",
    "$$\n",
    "\\mathbb{P}(\\cap_{i \\in J}A_i) = \\prod_{i \\in J}\\mathbb{P}(A_i)\n",
    "$$\n",
    "\n",
    "for every finite subset $J$ of $I$. If $A$ and $B$ are not independent we write $A \\not\\!\\perp\\!\\!\\!\\perp B$.\n",
    "\n",
    "We can either **assume** independence or **derive** independence by proving that the conditions above hold. However, disjoint events with positive probability cannot be independent."
   ]
  },
  {
   "cell_type": "markdown",
   "id": "a802cda2-dc0c-451a-88ab-7807e62e05b0",
   "metadata": {},
   "source": [
    "### Conditional Probability\n",
    "\n",
    "If $\\mathbb{P}(B) > 0$ then the **conditional probability** of $A$ given $B$ is\n",
    "\n",
    "$$\n",
    "\\mathbb{P}(A|B) = \\frac{\\mathbb{P}(AB)}{\\mathbb{P}(B)}\n",
    "$$\n",
    "\n",
    "This can be thought of as the fraction of times $A$ occurs among those in which $B$ occurs. $\\mathbb{P}(\\cdot|B)$ satisfies the axioms of probability, but in general $\\mathbb{P}(A|\\cdot)$ does not. Additionally, it is usually *not* the case that $\\mathbb{P}(A|B) = \\mathbb{P}(B|A)$.\n",
    "\n",
    "If $A$ and $B$ are *independent* events then $\\mathbb{P}(A|B) = \\mathbb{P}(A)$ i.e. knowing $B$ doesn't change the probability of $A$. Additionally\n",
    "\n",
    "$$\n",
    "\\mathbb{P}(AB) = \\mathbb{P}(A|B)\\mathbb{P}(B) = \\mathbb{P}(B|A)\\mathbb{P}(A)\n",
    "$$"
   ]
  },
  {
   "cell_type": "markdown",
   "id": "c6a66d90-71b0-49c2-8c25-80ae074c02d0",
   "metadata": {},
   "source": [
    "### The Law of Total Probability\n",
    "\n",
    "Let $A_1$, ... , $A_k$ be a *partition* of $\\Omega$. Then, for any event $B$,\n",
    "\n",
    "$$\n",
    "\\mathbb{P}(B) = \\sum_{i=1}^k \\mathbb{P}(B|A_i)\\mathbb{P}(A_i)\n",
    "$$"
   ]
  },
  {
   "cell_type": "markdown",
   "id": "74300f51-5c54-4901-875a-a7cee4201686",
   "metadata": {},
   "source": [
    "### Bayes' Theorem\n",
    "\n",
    "Let $A_1$, ... , $A_k$ be a *partition* of $\\Omega$ such that $\\mathbb{P}(A_i)>0$ for each $i$. If $\\mathbb{P}(B)>0$ then for each $i=1$,...,$k$,\n",
    "\n",
    "$$\n",
    "\\mathbb{P}(A_i|B) = \\frac{\\mathbb{P}(B|A_i)\\mathbb{P}(A_i)}{\\sum_{j=1}^k \\mathbb{P}(B|A_j)\\mathbb{P}(A_j)}\n",
    "$$\n",
    "\n",
    "In the context of Bayesian Statistics, we call $\\mathbb{P}(A)$ the **prior probability of $A$** and $\\mathbb{P}(A|B)$ the **posterior probability of $A$**."
   ]
  },
  {
   "cell_type": "markdown",
   "id": "38a16d9b-da16-45c8-be37-fae0259f954e",
   "metadata": {},
   "source": [
    "## Exercises\n",
    "\n",
    "### 1. Prove the Continuity of Probabilities Theorem\n",
    "\n",
    "Suppose that $A_n$ is monotone increasing so that $A_1 \\subset A_2 \\subset $ .... Let $A = \\lim_{n\\to\\infty} A_n = \\bigcup_{i=1}^\\infty A_i$. Define $B_1 = A_1$, $B_2 = \\{\\omega \\in \\Omega : \\omega \\in A_2, \\omega \\notin A_1\\}$,..., $B_k = \\left\\{\\omega \\in \\Omega : \\omega \\in A_k, \\omega \\notin \\bigcup_{i=1}^{k-1} A_i\\right\\}$, ...\n",
    "\n",
    "We want to show that $B_i$ and $B_j$ are disjoint whenever $i \\neq j$. Suppose they are not, then $\\exists $ $\\omega : \\omega \\in B_i \\cap B_j$. Assume (arbitrarily) that $i < j$ as intersection is commutative. Then \n",
    "\n",
    "$$\n",
    "\\omega \\in B_i \\cap B_j \n",
    "\\implies \\omega \\in B_i \n",
    "\\implies \\omega \\in A_i \n",
    "\\implies \\omega \\in \\bigcup_{n=1}^{j-1} A_n \n",
    "\\implies \\omega \\notin \\left\\{\\omega \\in \\Omega : \\omega \\in A_j, \\omega \\notin \\bigcup_{n=1}^{j-1} A_n\\right\\} \n",
    "\\implies \\omega \\notin B_j\n",
    "\\implies \\omega \\notin B_i \\cap B_j \n",
    "$$\n",
    "\n",
    "This is a contradiction, which means that $B_i$ and $B_j$ are disjoint whenever $i \\neq j$.\n",
    "\n",
    "Next, we want to show that $A_n = \\bigcup_{i=1}^n A_i = \\bigcup_{i=1}^n B_i$ for each n. We'll do this by induction. \n",
    "\n",
    "Let $n = 2$, then $A_1 \\cup A_2 = A_2$ as $A_1 \\subset A_2$ and $B_1 \\cup B_2 = A_1 \\cup \\{\\omega \\in \\Omega : \\omega \\in A_2, \\omega \\notin A_1\\} = A_1 \\cup A_2$. \n",
    "\n",
    "If we assume the case holds for k, then, since $A_{k} \\subset A_{k+1}$, we can see\n",
    "\n",
    "$$\n",
    "\\bigcup_{i=1}^{k+1} A_i = A_{k+1} \\cup \\left(\\bigcup_{i=1}^{k} A_i\\right) = A_{k+1} \\cup A_{k} = A_{k+1}\n",
    "$$\n",
    "\n",
    "$$\n",
    "\\bigcup_{i=1}^{k+1} B_i = B_{k+1} \\cup \\left(\\bigcup_{i=1}^{k} B_i\\right) = B_{k+1} \\cup \\left(\\bigcup_{i=1}^{k} A_i\\right) = \\left\\{\\omega \\in \\Omega : \\omega \\in A_{k+1}, \\omega \\notin \\bigcup_{i=1}^{k} A_i\\right\\} \\cup \\left(\\bigcup_{i=1}^{k} A_i\\right) = A_{k+1}\n",
    "$$\n",
    "\n",
    "Thus the case holds for any value of $n$.\n",
    "\n",
    "Next, we want to show that $\\bigcup_{i=1}^\\infty B_i = \\bigcup_{i=1}^\\infty A_i$. Since $B_i \\subset A_i \\: \\forall \\: i$ we know that $\\bigcup_{i=1}^\\infty B_i \\subset \\bigcup_{i=1}^\\infty A_i$. Now let's assume that there is an element $\\omega \\in \\bigcup_{i=1}^\\infty A_i \\implies \\exists n : \\omega \\in A_n$ and $\\omega \\notin A_i$ for $i < n$.\n",
    "\n",
    "$$\n",
    "\\implies \\omega \\notin A_{n-1} \\implies \\omega \\in B_n \\implies \\omega \\in \\bigcup_{i=1}^\\infty B_i \\implies \\bigcup_{i=1}^\\infty B_i \\supset \\bigcup_{i=1}^\\infty A_i \\implies \\bigcup_{i=1}^\\infty B_i = \\bigcup_{i=1}^\\infty A_i\n",
    "$$\n",
    "\n",
    "Combining these together, we have:\n",
    "\n",
    "$$\n",
    "\\mathbb{P}(A_n) = \\mathbb{P}\\left(\\bigcup_{i=1}^n B_i\\right) = \\sum_{i=1}^n \\mathbb{P}(B_i)\n",
    "$$\n",
    "\n",
    "and hence,\n",
    "\n",
    "$$\n",
    "\\lim_{n\\to\\infty}\\mathbb{P}(A_n) = \\lim_{n\\to\\infty}\\sum_{i=1}^n \\mathbb{P}(B_i) = \\sum_{i=1}^\\infty \\mathbb{P}(B_i) = \\mathbb{P}\\left(\\bigcup_{i=1}^\\infty B_i\\right) = \\mathbb{P}(A)\n",
    "$$\n",
    "\n",
    "Now, let's assume a new sequence $A_1$, $A_2$, ... that is monotone decreasing. Then we know that $A_1^c$, $A_2^c$, ... is monotone increasing, so, using De Morgan's Laws we have:\n",
    "\n",
    "$$\n",
    "\\mathbb{P}(A_n) = 1 - \\mathbb{P}(A_n^c) \\to 1 - \\mathbb{P}\\left(\\bigcup_{i=1}^\\infty A_i^c\\right) = 1 - \\mathbb{P}\\left(\\left(\\bigcap_{i=1}^\\infty A_i\\right)^c\\right) = \\mathbb{P}\\left(\\bigcap_{i=1}^\\infty A_i\\right) = \\mathbb{P}(A)\n",
    "$$"
   ]
  },
  {
   "cell_type": "markdown",
   "id": "a9ea05f6-6407-449c-b681-c9699d08bfea",
   "metadata": {},
   "source": [
    "### 2. Prove the following statements...\n",
    "\n",
    "#### Statement 1: $A \\subset B \\implies \\mathbb{P}(A) \\leq \\mathbb{P}(B)$\n",
    "\n",
    "If $A \\subset B$ then $B-A$, $B^C$ and $A$ are a partition of $\\Omega$, so we know using axioms 2 and 3:\n",
    "\n",
    "$$\n",
    "1 =  \\mathbb{P}(\\Omega) = \\mathbb{P}\\left(B-A \\cup B^C \\cup A\\right) = \\mathbb{P}(B-A) +  \\mathbb{P}(B^C) + \\mathbb{P}(A)\n",
    "= \\mathbb{P}(B-A) +  1 - \\mathbb{P}(B) + \\mathbb{P}(A)\n",
    "$$\n",
    "\n",
    "$$\n",
    "\\implies 0 = \\mathbb{P}(B-A) - \\mathbb{P}(B) + \\mathbb{P}(A) \n",
    "\\implies \\mathbb{P}(B) = \\mathbb{P}(B-A) + \\mathbb{P}(A) \n",
    "$$\n",
    "\n",
    "However, since $0 \\leq \\mathbb{P}(B-A)$ by axiom 1, this means that $\\mathbb{P}(A) \\leq \\mathbb{P}(B)$.\n",
    "\n",
    "#### Statement 2: $0 \\leq \\mathbb{P}(A) \\leq 1$\n",
    "\n",
    "Immediately follows from B since $0 \\leq \\mathbb{P}(A)$ by axiom 1, and as $A \\subset \\Omega \\implies \\mathbb{P}(A) \\leq \\mathbb{P}(\\Omega) = 1$ by axiom 2.\n",
    "\n",
    "#### Statement 3: $\\mathbb{P}(A^C) = 1 - \\mathbb{P}(A)$\n",
    "\n",
    "$A^C$ and $A$ are disjoint and $A^C \\cup A = \\Omega$ . So we have using axioms 2 and 3:\n",
    "\n",
    "$$\n",
    "1 = \\mathbb{P}(\\Omega) = \\mathbb{P}\\left(A^C \\cup A\\right) = \\mathbb{P}(A^C) + \\mathbb{P}(A)\n",
    "$$\n",
    "\n",
    "$$\n",
    "\\implies \\mathbb{P}(A^C) = 1 - \\mathbb{P}(A)\n",
    "$$\n",
    "\n",
    "#### Statement 4: $\\mathbb{P}(\\emptyset) = 0$\n",
    "\n",
    "Immediately follows from D and axiom 2.\n",
    "\n",
    "$$\n",
    "\\mathbb{P}(\\emptyset) = \\mathbb{P}(\\Omega^C) = 1 - \\mathbb{P}(\\Omega) = 1 - 1 = 0\n",
    "$$\n",
    "\n",
    "#### Statement 5: $A \\cap B = \\emptyset \\implies \\mathbb{P}(A \\cup B) = \\mathbb{P}(A) + \\mathbb{P}(B)$\n",
    "\n",
    "This is trivial since $A \\cap B = \\emptyset \\implies$ $A$ and $B$ are disjoint, so by axiom 3, $\\mathbb{P}(A \\cup B) = \\mathbb{P}(A) + \\mathbb{P}(B)$.\n"
   ]
  },
  {
   "cell_type": "markdown",
   "id": "59584771-9f7e-483f-b2ff-630ee903c3a4",
   "metadata": {},
   "source": [
    "## Computer Experiments\n",
    "\n",
    "Functions used across the experiments"
   ]
  },
  {
   "cell_type": "code",
   "execution_count": 1,
   "id": "a4577d86-20fb-442e-97aa-479a27bda8db",
   "metadata": {
    "tags": []
   },
   "outputs": [],
   "source": [
    "import seaborn as sns\n",
    "from collections import defaultdict\n",
    "from random import choice, random\n",
    "from statistics import mean\n",
    "\n",
    "def coin_flip_heads(prob_heads=0.5):\n",
    "    \"\"\"Simulate the coin toss\"\"\"\n",
    "    return random() <= prob_heads\n",
    "\n",
    "def number_heads(p, n):\n",
    "    \"\"\"Get the number of heads tossed in n tosses where\n",
    "    p is the probability of tossing a head\"\"\"\n",
    "    return sum([coin_flip_heads(p) for i in range(n)])\n",
    "\n",
    "def proportion_heads(p, n):\n",
    "    \"\"\"Find out the proportion of heads tossed in n tosses\n",
    "    where p is the probability of tossing a head\"\"\"\n",
    "    return number_heads(p, n) / n"
   ]
  },
  {
   "cell_type": "markdown",
   "id": "d2a5c6db-ea82-4aa8-960f-39be8a874bb1",
   "metadata": {},
   "source": [
    "### Experiment 1\n",
    "\n",
    "Suppose a coin has probability $p$ of falling heads up. If we flip the coin many times, we would expect the proportion of heads to be near $p$. We will make this formal later. Take $p = 0.3$ and $n = 1,000$ and simulate $n$ coin flips. Plot the proportion of heads as a function of $n$. Repeat for $p = 0.03$."
   ]
  },
  {
   "cell_type": "code",
   "execution_count": 2,
   "id": "3118cd41-d90b-485c-bea0-286a7d8385aa",
   "metadata": {},
   "outputs": [],
   "source": [
    "number_experiments = 1000\n",
    "n = 1000"
   ]
  },
  {
   "cell_type": "code",
   "execution_count": 3,
   "id": "86344bcb-0229-46f8-b128-14f957463410",
   "metadata": {},
   "outputs": [
    {
     "data": {
      "text/plain": [
       "0.287"
      ]
     },
     "execution_count": 3,
     "metadata": {},
     "output_type": "execute_result"
    }
   ],
   "source": [
    "# Get the results for n coin tosses\n",
    "proportion_heads(0.3, n)"
   ]
  },
  {
   "cell_type": "code",
   "execution_count": 4,
   "id": "7e2b5f23-e90b-45e3-b7e5-1661dd0e2306",
   "metadata": {},
   "outputs": [
    {
     "data": {
      "text/plain": [
       "<AxesSubplot:ylabel='Count'>"
      ]
     },
     "execution_count": 4,
     "metadata": {},
     "output_type": "execute_result"
    },
    {
     "data": {
      "image/png": "[encoded data removed]",
      "text/plain": [
       "<Figure size 432x288 with 1 Axes>"
      ]
     },
     "metadata": {
      "needs_background": "light"
     },
     "output_type": "display_data"
    }
   ],
   "source": [
    "# Run the first experiment and look at the distribution of results\n",
    "sns.histplot([proportion_heads(0.3, n) for _ in range(number_experiments)], kde=True, bins=10)"
   ]
  },
  {
   "cell_type": "code",
   "execution_count": 5,
   "id": "a7c4524b-edea-4e6d-b017-b0b78de7a882",
   "metadata": {},
   "outputs": [
    {
     "data": {
      "text/plain": [
       "<seaborn.axisgrid.FacetGrid at 0x10b8dbd00>"
      ]
     },
     "execution_count": 5,
     "metadata": {},
     "output_type": "execute_result"
    },
    {
     "data": {
      "image/png": "[encoded data removed]",
      "text/plain": [
       "<Figure size 360x360 with 1 Axes>"
      ]
     },
     "metadata": {
      "needs_background": "light"
     },
     "output_type": "display_data"
    }
   ],
   "source": [
    "# Run the second experiment and look at the distribution of results\n",
    "sns.displot([proportion_heads(0.03, n) for _ in range(number_experiments)], kde=True, bins=10)"
   ]
  },
  {
   "cell_type": "markdown",
   "id": "62460773-fd87-403e-b415-fdd73b311c1c",
   "metadata": {},
   "source": [
    "### Experiment 2\n",
    "\n",
    "Suppose we flip a coin $n$ times and let $p$ denote the probability of heads. Let $X$ be the number of heads. We call $X$ a binomial random variable, which is discussed in the next chapter. \n",
    "\n",
    "Intuition suggests that $X$ will be close to $n p$. To see if this is true, we can repeat this experiment many times and average the $X$ values. Carry out a simulation and compare the average of the $X$'s to $n p$. Try this for $p= 0.3$ and $n = 10$, $n = 100$, and $n = 1,000$.\n"
   ]
  },
  {
   "cell_type": "code",
   "execution_count": 6,
   "id": "59a03157-bda8-4dd3-9278-3568c88bd5d2",
   "metadata": {},
   "outputs": [],
   "source": [
    "number_experiments = 1000\n",
    "n = 1000\n",
    "p = 0.3\n",
    "np = n * p"
   ]
  },
  {
   "cell_type": "code",
   "execution_count": 7,
   "id": "a07b219e-b0eb-44a3-a57c-1f382a4db4a1",
   "metadata": {},
   "outputs": [
    {
     "data": {
      "text/plain": [
       "'X=303, np=300.0'"
      ]
     },
     "execution_count": 7,
     "metadata": {},
     "output_type": "execute_result"
    }
   ],
   "source": [
    "# Get a single value of X\n",
    "X = sum([coin_flip_heads(p) for i in range(n)])\n",
    "f\"{X=}, {np=}\""
   ]
  },
  {
   "cell_type": "code",
   "execution_count": 8,
   "id": "426835d2-5160-402e-bea3-39cc32a68d75",
   "metadata": {},
   "outputs": [
    {
     "name": "stdout",
     "output_type": "stream",
     "text": [
      "3.0\n"
     ]
    },
    {
     "data": {
      "text/plain": [
       "3.008"
      ]
     },
     "execution_count": 8,
     "metadata": {},
     "output_type": "execute_result"
    }
   ],
   "source": [
    "# Run the experiment multiple times\n",
    "n = 10\n",
    "p = 0.3\n",
    "print(n * p)\n",
    "mean([number_heads(p, n) for _ in range(number_experiments)])"
   ]
  },
  {
   "cell_type": "code",
   "execution_count": 9,
   "id": "f40ffbfd-9c46-43ab-936f-78f102534b65",
   "metadata": {},
   "outputs": [
    {
     "name": "stdout",
     "output_type": "stream",
     "text": [
      "30.0\n"
     ]
    },
    {
     "data": {
      "text/plain": [
       "29.869"
      ]
     },
     "execution_count": 9,
     "metadata": {},
     "output_type": "execute_result"
    }
   ],
   "source": [
    "# Run the experiment multiple times\n",
    "n = 100\n",
    "p = 0.3\n",
    "print(n * p)\n",
    "mean([number_heads(p, n) for _ in range(number_experiments)])"
   ]
  },
  {
   "cell_type": "code",
   "execution_count": 10,
   "id": "af7fbcdd-0eed-4895-8ae9-6db81bc265fd",
   "metadata": {},
   "outputs": [
    {
     "name": "stdout",
     "output_type": "stream",
     "text": [
      "300.0\n"
     ]
    },
    {
     "data": {
      "text/plain": [
       "300.236"
      ]
     },
     "execution_count": 10,
     "metadata": {},
     "output_type": "execute_result"
    }
   ],
   "source": [
    "# Run the experiment multiple times\n",
    "n = 1000\n",
    "p = 0.3\n",
    "print(n * p)\n",
    "mean([number_heads(p, n) for _ in range(number_experiments)])"
   ]
  },
  {
   "cell_type": "markdown",
   "id": "cfd1e219-4063-4f8c-a37a-aebbc3b6702e",
   "metadata": {},
   "source": [
    "### Experiment 3\n",
    "\n",
    "Here we will get some experience simulating conditional probabilities. Consider tossing a fair die. Let $A = {2,4,6}$ and $B = {1,2, 3, 4}$. Then, $\\mathbb{P}(A) = \\frac{1}{2}$, $\\mathbb{P}(B) = \\frac{2}{3}$ and $\\mathbb{P}(AB) = \\frac{1}{3}$. \n",
    "\n",
    "Since $\\mathbb{P}(AB) = \\mathbb{P}(A)\\mathbb{P}(B)$, the events $A$ and $B$ are independent. Simulate draws from the sample space and verify that $\\hat{\\mathbb{P}}(AB) = \\hat{\\mathbb{P}}(A)\\hat{\\mathbb{P}}(B)$ where $\\hat{\\mathbb{P}}(A)$ is the proportion of times $A$ occurred in the simulation and similarly for $\\hat{\\mathbb{P}}(AB)$ and $\\hat{\\mathbb{P}}(B)$. \n",
    "\n",
    "Now find two events $A$ and $B$ that are not independent. Compute $\\hat{\\mathbb{P}}(A)$, $\\hat{\\mathbb{P}}(B)$ and $\\hat{\\mathbb{P}}(AB)$. Compare the calculated values to their theoretical values. Report your results and interpret.\n"
   ]
  },
  {
   "cell_type": "code",
   "execution_count": 11,
   "id": "3bddcf2a-1493-4517-9679-9550f5a5b013",
   "metadata": {},
   "outputs": [
    {
     "data": {
      "text/plain": [
       "'A={2, 4, 6}, B={1, 2, 3, 4}, AB={2, 4}, possible_results=[1, 2, 3, 4, 5, 6]'"
      ]
     },
     "execution_count": 11,
     "metadata": {},
     "output_type": "execute_result"
    }
   ],
   "source": [
    "A = {2, 4, 6}\n",
    "B = {1, 2, 3, 4}\n",
    "AB = A.intersection(B)\n",
    "possible_results = [i+1 for i in range(6)]\n",
    "f\"{A=}, {B=}, {AB=}, {possible_results=}\""
   ]
  },
  {
   "cell_type": "code",
   "execution_count": 12,
   "id": "2860f954-095c-44e8-997b-8c5eaa6cb382",
   "metadata": {},
   "outputs": [
    {
     "data": {
      "text/plain": [
       "3"
      ]
     },
     "execution_count": 12,
     "metadata": {},
     "output_type": "execute_result"
    }
   ],
   "source": [
    "# Simulate single roll\n",
    "choice(possible_results)"
   ]
  },
  {
   "cell_type": "code",
   "execution_count": 13,
   "id": "04278c97-6ea8-495a-a5ee-ebd861310ecd",
   "metadata": {},
   "outputs": [
    {
     "data": {
      "text/plain": [
       "defaultdict(int, {'A': 49974, 'B': 66737, 'AB': 33345})"
      ]
     },
     "execution_count": 13,
     "metadata": {},
     "output_type": "execute_result"
    }
   ],
   "source": [
    "# Create a dictionary to hold the results\n",
    "outcomes = defaultdict(int)\n",
    "\n",
    "number_simulations = 100000\n",
    "\n",
    "for _ in range(number_simulations):\n",
    "    # Roll the dice\n",
    "    outcome = choice(possible_results)\n",
    "    if outcome in A:\n",
    "        outcomes[\"A\"] += 1\n",
    "    if outcome in B:\n",
    "        outcomes[\"B\"] += 1\n",
    "    if outcome in AB:\n",
    "        outcomes[\"AB\"] += 1\n",
    "        \n",
    "outcomes"
   ]
  },
  {
   "cell_type": "code",
   "execution_count": 14,
   "id": "b75433a2-0cf5-46d5-8630-c0798e337065",
   "metadata": {},
   "outputs": [
    {
     "data": {
      "text/plain": [
       "0.33345"
      ]
     },
     "execution_count": 14,
     "metadata": {},
     "output_type": "execute_result"
    }
   ],
   "source": [
    "# P(AB)\n",
    "outcomes[\"AB\"] / number_simulations"
   ]
  },
  {
   "cell_type": "code",
   "execution_count": 15,
   "id": "5bc63e9a-839a-4c33-a600-e79f290ff47e",
   "metadata": {},
   "outputs": [
    {
     "data": {
      "text/plain": [
       "0.3335114838"
      ]
     },
     "execution_count": 15,
     "metadata": {},
     "output_type": "execute_result"
    }
   ],
   "source": [
    "# P(A) * P(B)\n",
    "(outcomes[\"A\"] * outcomes[\"B\"]) / (number_simulations ** 2)"
   ]
  },
  {
   "cell_type": "markdown",
   "id": "da3bfb94-34fe-4a85-8e40-68ffa543c388",
   "metadata": {},
   "source": [
    "For this part, the theoretical value is:\n",
    "\n",
    "$$\n",
    "\\hat{\\mathbb{P}}(AB) = \\hat{\\mathbb{P}}(A) + \\hat{\\mathbb{P}}(B) - \\hat{\\mathbb{P}}(A \\cup B) \n",
    "$$\n",
    "\n",
    "As a tweak to the first, if we keep $A = {2, 4, 6}$ but set $B = {1, 2, 3}$, then these events aren't independent, as $\\mathbb{P}(A) = \\frac{1}{2}$, $\\mathbb{P}(B) = \\frac{1}{2}$ but $\\mathbb{P}(AB) = \\frac{1}{6} \\neq \\frac{1}{2} \\times \\frac{1}{2}$. "
   ]
  },
  {
   "cell_type": "code",
   "execution_count": 16,
   "id": "754802bd-2366-4e17-933b-99b4e9583048",
   "metadata": {},
   "outputs": [
    {
     "data": {
      "text/plain": [
       "'A={2, 4, 6}, B={1, 2, 3}, AB={2}, AuB={1, 2, 3, 4, 6}, possible_results=[1, 2, 3, 4, 5, 6]'"
      ]
     },
     "execution_count": 16,
     "metadata": {},
     "output_type": "execute_result"
    }
   ],
   "source": [
    "A = {2, 4, 6}\n",
    "B = {1, 2, 3}\n",
    "AB = A.intersection(B)\n",
    "AuB = A.union(B)\n",
    "possible_results = [i+1 for i in range(6)]\n",
    "f\"{A=}, {B=}, {AB=}, {AuB=}, {possible_results=}\""
   ]
  },
  {
   "cell_type": "code",
   "execution_count": 17,
   "id": "39931ae9-9b55-45be-9821-03cb14d205c3",
   "metadata": {},
   "outputs": [
    {
     "data": {
      "text/plain": [
       "defaultdict(int, {'B': 50083, 'AuB': 83244, 'A': 49901, 'AB': 16740})"
      ]
     },
     "execution_count": 17,
     "metadata": {},
     "output_type": "execute_result"
    }
   ],
   "source": [
    "# Create a dictionary to hold the results\n",
    "outcomes = defaultdict(int)\n",
    "\n",
    "number_simulations = 100000\n",
    "\n",
    "for _ in range(number_simulations):\n",
    "    # Roll the dice\n",
    "    outcome = choice(possible_results)\n",
    "    if outcome in A:\n",
    "        outcomes[\"A\"] += 1\n",
    "    if outcome in B:\n",
    "        outcomes[\"B\"] += 1\n",
    "    if outcome in AB:\n",
    "        outcomes[\"AB\"] += 1\n",
    "    if outcome in AuB:\n",
    "        outcomes[\"AuB\"] += 1\n",
    "        \n",
    "outcomes"
   ]
  },
  {
   "cell_type": "code",
   "execution_count": 18,
   "id": "1327c19d-5dd0-4564-8fc1-7314f4435477",
   "metadata": {},
   "outputs": [
    {
     "data": {
      "text/plain": [
       "0.1674"
      ]
     },
     "execution_count": 18,
     "metadata": {},
     "output_type": "execute_result"
    }
   ],
   "source": [
    "# P(AB)\n",
    "outcomes[\"AB\"] / number_simulations"
   ]
  },
  {
   "cell_type": "code",
   "execution_count": 19,
   "id": "8e40b780-02f0-4015-838d-25edd0de77f0",
   "metadata": {},
   "outputs": [
    {
     "data": {
      "text/plain": [
       "0.1674"
      ]
     },
     "execution_count": 19,
     "metadata": {},
     "output_type": "execute_result"
    }
   ],
   "source": [
    "# P(A) + P(B) - P(A u B)\n",
    "(outcomes[\"A\"] + outcomes[\"B\"] - outcomes[\"AuB\"]) / number_simulations"
   ]
  },
  {
   "cell_type": "code",
   "execution_count": null,
   "id": "64d4c6c3-b71d-4d3b-a04c-303fee04cb49",
   "metadata": {},
   "outputs": [],
   "source": []
  }
 ],
 "metadata": {
  "kernelspec": {
   "display_name": "Python 3",
   "language": "python",
   "name": "python3"
  },
  "language_info": {
   "codemirror_mode": {
    "name": "ipython",
    "version": 3
   },
   "file_extension": ".py",
   "mimetype": "text/x-python",
   "name": "python",
   "nbconvert_exporter": "python",
   "pygments_lexer": "ipython3",
   "version": "3.9.1"
  }
 },
 "nbformat": 4,
 "nbformat_minor": 5
}
